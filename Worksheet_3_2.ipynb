{
  "nbformat": 4,
  "nbformat_minor": 0,
  "metadata": {
    "colab": {
      "name": "Worksheet_3.2.ipynb",
      "provenance": []
    },
    "kernelspec": {
      "name": "python3",
      "display_name": "Python 3"
    }
  },
  "cells": [
    {
      "cell_type": "code",
      "metadata": {
        "id": "gEKoqrtqbbv-",
        "colab": {
          "base_uri": "https://localhost:8080/"
        },
        "outputId": "0e80dc2e-5179-4633-bad8-96eae63aaeb4"
      },
      "source": [
        "num1 = int(input(\"Enter the number 1 : \"))\r\n",
        "num2 = int(input(\"Enter the number 2 : \"))\r\n",
        "if(num1 > num2):\r\n",
        "  print(\"Num1 is greater \", num1)\r\n",
        "else : \r\n",
        "  print(\"Num2 is greater \", num2)  "
      ],
      "execution_count": 2,
      "outputs": [
        {
          "output_type": "stream",
          "text": [
            "Enter the number 1 : 5\n",
            "Enter the number 2 : 4\n",
            "true num1 is greater  5\n"
          ],
          "name": "stdout"
        }
      ]
    },
    {
      "cell_type": "code",
      "metadata": {
        "colab": {
          "base_uri": "https://localhost:8080/"
        },
        "id": "mB6aHDwmdyDZ",
        "outputId": "002baf89-af03-453d-9ecf-eca1ec51b8cd"
      },
      "source": [
        "name = input(\"Enter the name : \")\r\n",
        "print(name.title())"
      ],
      "execution_count": 4,
      "outputs": [
        {
          "output_type": "stream",
          "text": [
            "Enter the name : deeksha\n",
            "Deeksha\n"
          ],
          "name": "stdout"
        }
      ]
    },
    {
      "cell_type": "code",
      "metadata": {
        "colab": {
          "base_uri": "https://localhost:8080/"
        },
        "id": "lcACFWrAdbK3",
        "outputId": "4066bb4f-e28f-47cf-c2d9-a6cdd4315112"
      },
      "source": [
        "a = int(input(\"Enter the edge a : \"))\r\n",
        "b = int(input(\"Enter the edge b : \"))\r\n",
        "c = int(input(\"Enter the edge c : \"))\r\n",
        "print(\"Sum of lengths of all edges: \", 4*(a + b + c))\r\n",
        "print(\"Surface area : \", 2*(a*b + b*c + a*c))\r\n",
        "print(\"Volume : \", a*b*c)"
      ],
      "execution_count": 9,
      "outputs": [
        {
          "output_type": "stream",
          "text": [
            "Enter the edge a : 5\n",
            "Enter the edge b : 4\n",
            "Enter the edge c : 3\n",
            "Sum of lengths of all edges:  48\n",
            "Surface area :  94\n",
            "Volume :  60\n"
          ],
          "name": "stdout"
        }
      ]
    },
    {
      "cell_type": "code",
      "metadata": {
        "colab": {
          "base_uri": "https://localhost:8080/"
        },
        "id": "JoyfVaMGgsWa",
        "outputId": "0e4b092b-e47b-47d2-d5ea-bd1706c66b18"
      },
      "source": [
        "name = input(\"Enter a sentence : \")\r\n",
        "print(name.upper())"
      ],
      "execution_count": 10,
      "outputs": [
        {
          "output_type": "stream",
          "text": [
            "Enter a sentence : This is a name \n",
            "THIS IS A NAME \n"
          ],
          "name": "stdout"
        }
      ]
    },
    {
      "cell_type": "code",
      "metadata": {
        "colab": {
          "base_uri": "https://localhost:8080/"
        },
        "id": "On6KZZrRh4YJ",
        "outputId": "9383ff5b-c573-4c24-b924-c7fd9813dd02"
      },
      "source": [
        "import math\r\n",
        "a = int(input(\"Enter the value of a : \"))\r\n",
        "b = int(input(\"Enter the value of b : \"))\r\n",
        "c = int(input(\"Enter the value of c : \"))\r\n",
        "s=  int((a+b+c)//2) \r\n",
        "Area = math.sqrt( s*(s-a)*(s-b)*(s-c) )\r\n",
        "print(Area)"
      ],
      "execution_count": 28,
      "outputs": [
        {
          "output_type": "stream",
          "text": [
            "Enter the value of a : 5\n",
            "Enter the value of b : 5\n",
            "Enter the value of c : 5\n",
            "7.483314773547883\n"
          ],
          "name": "stdout"
        }
      ]
    },
    {
      "cell_type": "code",
      "metadata": {
        "colab": {
          "base_uri": "https://localhost:8080/"
        },
        "id": "DJRNTm69jPIR",
        "outputId": "4bd6c3aa-5b71-49ba-994c-b613c410e3ff"
      },
      "source": [
        "num1 = int(input(\"Write a integer number : \"))\r\n",
        "print(str(num1), float(num1))\r\n"
      ],
      "execution_count": 23,
      "outputs": [
        {
          "output_type": "stream",
          "text": [
            "Write a integer number : 4\n",
            "4 4.0\n"
          ],
          "name": "stdout"
        }
      ]
    },
    {
      "cell_type": "code",
      "metadata": {
        "colab": {
          "base_uri": "https://localhost:8080/",
          "height": 128
        },
        "id": "z9klu7wfm3JA",
        "outputId": "57298526-b222-4d04-b3f4-cfd480f028e2"
      },
      "source": [
        "num1 = int(input(\"Enter the numb5er : \"))\r\n",
        "print(math.ceil(name)))"
      ],
      "execution_count": 31,
      "outputs": [
        {
          "output_type": "error",
          "ename": "SyntaxError",
          "evalue": "ignored",
          "traceback": [
            "\u001b[0;36m  File \u001b[0;32m\"<ipython-input-31-db2833ef0148>\"\u001b[0;36m, line \u001b[0;32m2\u001b[0m\n\u001b[0;31m    print(math.ceil(name)))\u001b[0m\n\u001b[0m                          ^\u001b[0m\n\u001b[0;31mSyntaxError\u001b[0m\u001b[0;31m:\u001b[0m invalid syntax\n"
          ]
        }
      ]
    },
    {
      "cell_type": "code",
      "metadata": {
        "colab": {
          "base_uri": "https://localhost:8080/"
        },
        "id": "vxiWIbr9nRu_",
        "outputId": "04164dc4-d517-4372-cc48-6d075b26b45b"
      },
      "source": [
        "str1 = input(\"Enter a string : \")\r\n",
        "str2 = input(\"Enter a string : \")\r\n",
        "if(str1 == str2 ):\r\n",
        "  print(\"True\")\r\n",
        "else : \r\n",
        "  print(\"Else\")  "
      ],
      "execution_count": 32,
      "outputs": [
        {
          "output_type": "stream",
          "text": [
            "Enter a string : Deeksha \n",
            "Enter a string : Kulshreshtha \n",
            "Else\n"
          ],
          "name": "stdout"
        }
      ]
    },
    {
      "cell_type": "code",
      "metadata": {
        "colab": {
          "base_uri": "https://localhost:8080/"
        },
        "id": "P7mSybmAqp1r",
        "outputId": "ee0d723a-7ad6-4132-c34c-57077deb9b79"
      },
      "source": [
        "import math\r\n",
        "x = int(input(\"Enter ->\"))\r\n",
        "print(math.exp(x))"
      ],
      "execution_count": 33,
      "outputs": [
        {
          "output_type": "stream",
          "text": [
            "Enter ->1\n",
            "2.718281828459045\n"
          ],
          "name": "stdout"
        }
      ]
    }
  ]
}